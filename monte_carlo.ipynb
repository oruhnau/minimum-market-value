{
 "cells": [
  {
   "cell_type": "code",
   "execution_count": null,
   "metadata": {},
   "outputs": [],
   "source": [
    "import os\n",
    "import time\n",
    "import numpy as np\n",
    "import pandas as pd\n",
    "import seaborn as sns\n",
    "import xarray as xr\n",
    "import matplotlib.pyplot as plt\n",
    "from numpy_financial import pmt\n",
    "%matplotlib inline"
   ]
  },
  {
   "cell_type": "code",
   "execution_count": null,
   "metadata": {},
   "outputs": [],
   "source": [
    "vres = ['Solar PV', 'Wind onshore', 'Wind offshore']"
   ]
  },
  {
   "cell_type": "code",
   "execution_count": null,
   "metadata": {},
   "outputs": [],
   "source": [
    "colors = {\n",
    "    'Solar PV':      (255/255, 190/255,   0/255), \n",
    "    'Wind onshore':  ( 70/255, 140/255, 210/255), \n",
    "    'Wind offshore': (  0/255, 100/255, 170/255), \n",
    "}"
   ]
  },
  {
   "cell_type": "markdown",
   "metadata": {},
   "source": [
    "# Input parameters\n",
    "Base case:"
   ]
  },
  {
   "cell_type": "code",
   "execution_count": null,
   "metadata": {},
   "outputs": [],
   "source": [
    "p_base = {\n",
    "                     # value, unit\n",
    "    # General\n",
    "    'Interest rate':  (    7, '\\%/a'             ),\n",
    "    'H2 price':       (    2, '€/kg_{H2}'        ),\n",
    "    'H2 LHV':         ( 33.3, 'kWh_{H2}/kg_{H2}' ),\n",
    "    'El supplement':  (    0, '€/MWh_{el}'       ),\n",
    "     \n",
    "    # Electrolyzer\n",
    "    'Electrolyzer CAPEX':        (  450, '€/kW_{el}'        ),\n",
    "    'Electrolyzer OPEX fix':     (    2, '% of CAPEX'       ),\n",
    "    'Electrolyzer OPEX var':     (  0.1, '€/kg_{H2}'        ),\n",
    "    'Electrolyzer lifetime':     (   25, 'a'                ),\n",
    "    'Electrolyzer efficiency':   (   21, 'kg_{H2}/MWh_{el}' )    \n",
    "}"
   ]
  },
  {
   "cell_type": "markdown",
   "metadata": {},
   "source": [
    "Sensitivity:"
   ]
  },
  {
   "cell_type": "code",
   "execution_count": null,
   "metadata": {},
   "outputs": [],
   "source": [
    "p_sensitivity = {\n",
    "                     #  min,  max,  step     units \n",
    "    # General\n",
    "    'Interest rate':  (   4,   10,    3),  # %/a\n",
    "    'H2 price':       ( 1.5,  2.5, 0.25),  # €/kg_H2\n",
    "    'El supplement':  (   0,    0,    0),  # €/MWh_el\n",
    "    \n",
    "    # Electrolyzer\n",
    "    'Electrolyzer CAPEX':        ( 100,  800, 175),  # €/kW_el\n",
    "    'Electrolyzer lifetime':     (  20,   30,   5),  # a\n",
    "    'Electrolyzer efficiency':   (  20,   22,   1)   # kg_H2/kWh_el\n",
    "}"
   ]
  },
  {
   "cell_type": "markdown",
   "metadata": {},
   "source": [
    "# Time series"
   ]
  },
  {
   "cell_type": "markdown",
   "metadata": {},
   "source": [
    "This article uses renewable profiles from the METIS dataset, which can be downloaded at https://ec.europa.eu/energy/data-analysis/energy-modelling/metis/metis-scripts-and-data_en. To rund this script, copy the country-wise CSV files for solar, wind onshore, and wind offshore into a subfolder named \"input/\":"
   ]
  },
  {
   "cell_type": "code",
   "execution_count": null,
   "metadata": {},
   "outputs": [],
   "source": [
    "countries_offshore = {\n",
    "    'BE', 'BG', 'CY', 'DE', 'DK', 'EE', 'ES', \n",
    "    'FI', 'FR', 'GB', 'GR', 'HR', 'IE', 'IT', \n",
    "    'LT', 'LV', 'MT', 'NL', 'PL', 'PT', 'SE'\n",
    "}\n",
    "countries_PV = countries_offshore | {\n",
    "    'AT', 'CH', 'CZ', 'HU', 'LU', 'ME', 'MK', \n",
    "    'RO', 'RS', 'SI', 'SK'\n",
    "}\n",
    "countries_onshore = countries_PV | {\n",
    "    'BA', 'NO'\n",
    "}"
   ]
  },
  {
   "cell_type": "code",
   "execution_count": null,
   "metadata": {},
   "outputs": [],
   "source": [
    "ts = {\n",
    "    'Solar PV': pd.concat(\n",
    "        [pd.read_csv(\n",
    "            'input/Solar_fleet_{}__availability.csv'.format(country), \n",
    "            index_col=0, sep=';', decimal=',', header=1\n",
    "        ) for country in countries_PV],\n",
    "        axis=1\n",
    "    ),\n",
    "    'Wind onshore': pd.concat(\n",
    "        [pd.read_csv(\n",
    "            'input/Wind_onshore_fleet_{}__availability.csv'.format(country), \n",
    "            index_col=0, sep=';', decimal=',', header=1\n",
    "        ) for country in countries_onshore],\n",
    "        axis=1\n",
    "    ),\n",
    "    'Wind offshore': pd.concat(\n",
    "        [pd.read_csv(\n",
    "            'input/Wind_offshore_fleet_{}__availability.csv'.format(country), \n",
    "            index_col=0, sep=';', decimal=',', header=1\n",
    "        ) for country in countries_offshore],\n",
    "        axis=1\n",
    "    ),\n",
    "}\n",
    "\n",
    "# Sort in descending order\n",
    "ts = {\n",
    "    vre: pd.DataFrame(np.sort(ts[vre].values, axis=0)[::-1])\n",
    "    for vre in vres\n",
    "}"
   ]
  },
  {
   "cell_type": "markdown",
   "metadata": {},
   "source": [
    "Visualization:"
   ]
  },
  {
   "cell_type": "code",
   "execution_count": null,
   "metadata": {},
   "outputs": [],
   "source": [
    "ts_median = {\n",
    "    vre: ts[vre].median(axis=1)\n",
    "    for vre in vres\n",
    "}"
   ]
  },
  {
   "cell_type": "code",
   "execution_count": null,
   "metadata": {},
   "outputs": [],
   "source": [
    "ts_quantiles = {\n",
    "    vre: {\n",
    "        'q5': ts[vre].quantile(.05, axis=1),\n",
    "        'q95': ts[vre].quantile(.95, axis=1)\n",
    "    }\n",
    "    for vre in vres\n",
    "}"
   ]
  },
  {
   "cell_type": "code",
   "execution_count": null,
   "metadata": {},
   "outputs": [],
   "source": [
    "def profiles(ax, vre):\n",
    "    \n",
    "    # Plot 5-95% range of profiles\n",
    "    ax.fill_between(\n",
    "        ts_quantiles[vre]['q5'].index[::-1], ts_quantiles[vre]['q5'], ts_quantiles[vre]['q95'],\n",
    "        color=colors[vre], alpha=.5\n",
    "    )\n",
    "    \n",
    "    # Plot median profile\n",
    "    ax.plot(\n",
    "        ts_median[vre].index[::-1], ts_median[vre], \n",
    "        color=colors[vre]\n",
    "    )\n",
    "    \n",
    "    # Vertical line and textbox\n",
    "    a1000 = ts_median[vre].iloc[:1000].mean()\n",
    "    ax.axvline(7660, color='k', linewidth=.5, linestyle='dashed')\n",
    "    ax.plot(pd.Series({7660: a1000, 8760: a1000}), color=colors[vre])\n",
    "    ax.text(\n",
    "        5660, a1000 - (.05 if vre=='Wind offshore' else .02),\n",
    "        r'$\\alpha$: '+'{}'.format(round(a1000,2)), \n",
    "        bbox=dict(facecolor='white', alpha=1,\n",
    "                  ec=colors[vre])\n",
    "    )\n",
    "\n",
    "    # X axis\n",
    "    ax.set_xlabel('Hours, sorted by capacity factor')\n",
    "    ax.set_xlim(0, 8760)\n",
    "    \n",
    "    # Y axis\n",
    "    ax.set_ylabel('Capacity factor')\n",
    "    ax.set_ylim(0, 1)\n",
    "    \n",
    "    # Title\n",
    "    ax.set_title(vre)\n",
    "    \n",
    "    # Grid\n",
    "    plt.grid(axis='y', zorder=0, color='grey', linewidth=.5)\n",
    "    \n",
    "    return ax"
   ]
  },
  {
   "cell_type": "code",
   "execution_count": null,
   "metadata": {},
   "outputs": [],
   "source": [
    "fig = plt.figure(figsize=(10,3.5))\n",
    "\n",
    "ax = {}\n",
    "for i, vre in enumerate(vres):\n",
    "    ax[i] = plt.subplot(131+i)\n",
    "    ax[i] = profiles(ax[i], vre)\n",
    "for i in range(1,3):\n",
    "    ax[i].set_ylabel('')\n",
    "    ax[i].set_yticklabels([])\n",
    "\n",
    "plt.tight_layout()\n",
    "plt.savefig('graphs/Profiles - VRE.png', dpi=300)"
   ]
  },
  {
   "cell_type": "code",
   "execution_count": null,
   "metadata": {},
   "outputs": [],
   "source": [
    "# Calculate full load hours\n",
    "df = pd.DataFrame()\n",
    "df['Full load hours'] = pd.concat(\n",
    "    [ts[vre].sum()\n",
    "     for vre in vres],\n",
    "    keys = vres\n",
    ")\n",
    "\n",
    "# Copy vre and values of the fixed parameter to columns\n",
    "df['VRE'] = df.index.get_level_values(0)\n",
    "df.head()\n",
    "\n",
    "df['x'] = df['VRE'].apply(lambda x: {\n",
    "    'Solar PV': 1,\n",
    "    'Wind onshore': 1,\n",
    "    'Wind offshore': 1\n",
    "}[x])\n",
    "\n",
    "# Boxplot\n",
    "ax = sns.boxplot(\n",
    "    data=df, x='x', y='Full load hours', hue='VRE', \n",
    "    palette=colors.values(), saturation=1, whis=[5,95],                 \n",
    ")\n",
    "\n",
    "# X axis\n",
    "plt.xticks([-.265, 0, .265], vres)\n",
    "plt.xlabel('')\n",
    "\n",
    "# Grid and no legend\n",
    "plt.grid(axis='y', zorder=0, color='grey', linewidth=.5)\n",
    "plt.gca().legend_.remove()"
   ]
  },
  {
   "cell_type": "markdown",
   "metadata": {},
   "source": [
    "# Functions"
   ]
  },
  {
   "cell_type": "code",
   "execution_count": null,
   "metadata": {},
   "outputs": [],
   "source": [
    "def dispatch_price(p):\n",
    "    \n",
    "    # Dispatch electricity price in €/MWh_el\n",
    "    dispatch_price = (p['H2 price'] - p['Electrolyzer OPEX var']) * p['Electrolyzer efficiency'] - p['El supplement']\n",
    "    \n",
    "    return dispatch_price"
   ]
  },
  {
   "cell_type": "code",
   "execution_count": null,
   "metadata": {},
   "outputs": [],
   "source": [
    "def zero_prices_max(p):\n",
    "    \n",
    "    # Annualized fixed cost of electrolysis in €/kW_el\n",
    "    afc = - pmt(p['Interest rate']/100, p['Electrolyzer lifetime'], p['Electrolyzer CAPEX']) \\\n",
    "          + p['Electrolyzer OPEX fix'] * p['Electrolyzer CAPEX'] / 100\n",
    "    \n",
    "    # Maximum frequency of zero prices in h\n",
    "    h_zero_max = afc / dispatch_price(p) * 1000\n",
    "    \n",
    "    return h_zero_max"
   ]
  },
  {
   "cell_type": "code",
   "execution_count": null,
   "metadata": {},
   "outputs": [],
   "source": [
    "def market_value_min(p, ts):\n",
    "    \n",
    "    # Minimal market value in €/MWh_el\n",
    "    mv_min = ts.iloc[int(zero_prices_max(p)):].sum() / ts.sum() * dispatch_price(p)\n",
    "    \n",
    "    return mv_min"
   ]
  },
  {
   "cell_type": "code",
   "execution_count": null,
   "metadata": {},
   "outputs": [],
   "source": [
    "def monte_carlo(vre, p_fixed={}, ts=ts):\n",
    "    \n",
    "    # Take base parameters\n",
    "    p = {key: value[0] for key, value in p_base.items()}\n",
    "    \n",
    "    mv = []\n",
    "    for i in range(n):\n",
    "        \n",
    "        # Random choice of VRE profile\n",
    "        tsx = ts[vre].iloc[:,np.random.choice(ts[vre].shape[1])]\n",
    "        \n",
    "        # Uniformly-distributed random values in sensitivity range (a, b)\n",
    "        for key, (a, b, step) in p_sensitivity.items():\n",
    "            p[key] = a + np.random.random() * (b-a)\n",
    "        \n",
    "        # Override values with constants\n",
    "        for key, c in p_fixed.items():\n",
    "            p[key] = c\n",
    "        \n",
    "        mv.append(market_value_min(p, tsx))\n",
    "        \n",
    "    return pd.Series(mv)"
   ]
  },
  {
   "cell_type": "markdown",
   "metadata": {},
   "source": [
    "# Analysis"
   ]
  },
  {
   "cell_type": "markdown",
   "metadata": {},
   "source": [
    "## Density functions"
   ]
  },
  {
   "cell_type": "code",
   "execution_count": null,
   "metadata": {},
   "outputs": [],
   "source": [
    "n = 1000000"
   ]
  },
  {
   "cell_type": "code",
   "execution_count": null,
   "metadata": {},
   "outputs": [],
   "source": [
    "mv = {}\n",
    "for vre in vres:\n",
    "    t = time.time()\n",
    "    mv[vre] = monte_carlo(vre)\n",
    "    print(time.time() - t)"
   ]
  },
  {
   "cell_type": "code",
   "execution_count": null,
   "metadata": {},
   "outputs": [],
   "source": [
    "def density(vre):\n",
    "    \n",
    "    mean = round(mv[vre].mean(),1)\n",
    "    std = round(mv[vre].std(),1)\n",
    "    \n",
    "    median = round(mv[vre].median(),1)\n",
    "    q5 = round(mv[vre].quantile(.05),1)\n",
    "    q95 = round(mv[vre].quantile(.95),1)\n",
    "\n",
    "    # Density plot\n",
    "    ax = sns.distplot(mv[vre], hist=True, kde=True, color=colors[vre])\n",
    "\n",
    "    # Vertical line and textbox\n",
    "    ax.axvline(median, color=colors[vre])\n",
    "    ax.text(\n",
    "        median+2, 0.051, \n",
    "        'mean: {}\\nstd: {}'.format(mean, std), \n",
    "        bbox=dict(facecolor='white', alpha=1,\n",
    "                  ec=colors[vre])\n",
    "    )\n",
    "\n",
    "    # X axis\n",
    "    ax.set_xlabel('Minimum market value (€/MWh)')\n",
    "    ax.set_xlim(0, 50)\n",
    "    \n",
    "    # Y axis\n",
    "    ax.set_ylabel('Density (%)')\n",
    "    ax.set_ylim(0, 0.06)\n",
    "    ax.set_yticklabels(range(0,7,1))\n",
    "    \n",
    "    # Title\n",
    "    ax.set_title(vre)\n",
    "    \n",
    "    return ax"
   ]
  },
  {
   "cell_type": "code",
   "execution_count": null,
   "metadata": {},
   "outputs": [],
   "source": [
    "# This creates one figure per VRE\n",
    "single = True\n",
    "if single:\n",
    "    for vre in vres:\n",
    "        fig = plt.figure()\n",
    "        density(vre)\n",
    "        plt.savefig('graphs/Density - {}.png'.format(vre), dpi=300)"
   ]
  },
  {
   "cell_type": "code",
   "execution_count": null,
   "metadata": {},
   "outputs": [],
   "source": [
    "# This creates one figure with all VRE\n",
    "multiple = True\n",
    "if multiple:\n",
    "    \n",
    "    fig = plt.figure(figsize=(10,3.5))\n",
    "\n",
    "    ax = {}\n",
    "    for i, vre in enumerate(vres):\n",
    "        ax[i] = plt.subplot(131+i)\n",
    "        ax[i] = density(vre)\n",
    "    for i in range(1,3):\n",
    "        ax[i].set_ylabel('')\n",
    "        ax[i].set_yticklabels([])\n",
    "\n",
    "    plt.tight_layout()\n",
    "    plt.savefig('graphs/Density - VRE.png', dpi=300)"
   ]
  },
  {
   "cell_type": "markdown",
   "metadata": {},
   "source": [
    "## Sensitivity anaylsis"
   ]
  },
  {
   "cell_type": "code",
   "execution_count": null,
   "metadata": {},
   "outputs": [],
   "source": [
    "n=100000"
   ]
  },
  {
   "cell_type": "code",
   "execution_count": null,
   "metadata": {},
   "outputs": [],
   "source": [
    "p_list = ['H2 price', 'Electrolyzer CAPEX', 'El supplement']"
   ]
  },
  {
   "cell_type": "code",
   "execution_count": null,
   "metadata": {},
   "outputs": [],
   "source": [
    "mv_fixed = {}\n",
    "for p_fixed in p_list:\n",
    "    \n",
    "    # Define electricity price supplement only for dedicated sensitivity\n",
    "    if p_fixed == 'El supplement':\n",
    "        p_sensitivity['El supplement'] = (0, 20, 5)  # €/MWh_el\n",
    "    \n",
    "    # Define range for the parameter that is fixed\n",
    "    a, b, step = p_sensitivity[p_fixed]\n",
    "    rng = np.arange(a, b+step, step)\n",
    "    \n",
    "    # Create a dataframe with sensitivity results\n",
    "    df = pd.DataFrame()\n",
    "    df['Market value'] = pd.concat(\n",
    "        [pd.concat(\n",
    "             [monte_carlo(vre, {p_fixed: x}) for x in rng], keys=rng\n",
    "         ).clip(lower=0)\n",
    "         for vre in vres],\n",
    "        keys = vres\n",
    "    )\n",
    "    \n",
    "    # Copy vre and values of the fixed parameter to columns\n",
    "    df['VRE'] = df.index.get_level_values(0)\n",
    "    df[p_fixed] = df.index.get_level_values(1)\n",
    "    \n",
    "    # Reset electricity price supplement\n",
    "    p_sensitivity['El supplement'] = (0, 0, 0)  # €/MWh_el\n",
    "    \n",
    "    mv_fixed[p_fixed] = df"
   ]
  },
  {
   "cell_type": "markdown",
   "metadata": {},
   "source": [
    "Key parameters:"
   ]
  },
  {
   "cell_type": "code",
   "execution_count": null,
   "metadata": {},
   "outputs": [],
   "source": [
    "handles = None\n",
    "labels = None\n",
    "def sensitivity(p_fixed, legend=True):\n",
    "    \n",
    "    # Grid\n",
    "    plt.grid(axis='y', zorder=0, color='grey', linewidth=.5)\n",
    "    \n",
    "    # Boxplot\n",
    "    ax = sns.boxplot(data=mv_fixed[p_fixed], x=p_fixed, y='Market value', hue='VRE', whis=[5,95], \n",
    "                     palette=colors.values(), saturation=1, showfliers=False)\n",
    "    \n",
    "    # X axis\n",
    "    ax.set_xlabel(p_fixed + ' ($\\mathregular{' + p_base[p_fixed][1] + '}$)')\n",
    "    \n",
    "    # Y axis\n",
    "    ax.set_ylim(0, 50)\n",
    "    ax.set_ylabel('Minimum market value (€/MWh)')\n",
    "    \n",
    "    # Legend\n",
    "    if legend:\n",
    "        legend = ax.legend(ncol=3, bbox_to_anchor=(0.5, 1), loc='lower center')\n",
    "    else:\n",
    "        ax.legend([], [], bbox_to_anchor=(0.5, 1), loc='lower center')\n",
    "    \n",
    "    # Safe handles and labels for FLH sensitivity\n",
    "    global handles, labels\n",
    "    handles, labels = ax.get_legend_handles_labels()\n",
    "    \n",
    "    return ax"
   ]
  },
  {
   "cell_type": "code",
   "execution_count": null,
   "metadata": {},
   "outputs": [],
   "source": [
    "# This creates one figure per parameter\n",
    "for p_fixed in p_list:\n",
    "    fig = plt.figure()\n",
    "    sensitivity(p_fixed)\n",
    "    plt.savefig('graphs/Sensitivity - {}.png'.format(p_fixed), dpi=300)"
   ]
  },
  {
   "cell_type": "code",
   "execution_count": null,
   "metadata": {},
   "outputs": [],
   "source": [
    "# This creates one figure with all parameters\n",
    "multiple = True\n",
    "if multiple:\n",
    "    \n",
    "    fig = plt.figure(figsize=(10,3.5))\n",
    "\n",
    "    ax = {}\n",
    "    for i, p_fixed in enumerate(p_list):\n",
    "        ax[i] = plt.subplot(131+i)\n",
    "        if i == 1:\n",
    "            ax[i] = sensitivity(p_fixed, legend=False)\n",
    "        else:\n",
    "            ax[i] = sensitivity(p_fixed, legend=False)\n",
    "    for i in range(1,3):\n",
    "        ax[i].set_ylabel('')\n",
    "        ax[i].set_yticklabels([])\n",
    "\n",
    "    plt.tight_layout()\n",
    "    \n",
    "    ax[0].get_legend().remove()\n",
    "    ax[1].legend(ncol=3, bbox_to_anchor=(0.5, 1), loc='lower center')\n",
    "    ax[2].get_legend().remove()\n",
    "    \n",
    "    plt.savefig('graphs/Sensitivities.png', dpi=300)"
   ]
  },
  {
   "cell_type": "markdown",
   "metadata": {},
   "source": [
    "Other parameters:"
   ]
  },
  {
   "cell_type": "code",
   "execution_count": null,
   "metadata": {},
   "outputs": [],
   "source": [
    "p_list = ['Interest rate', 'Electrolyzer lifetime', 'Electrolyzer efficiency']"
   ]
  },
  {
   "cell_type": "code",
   "execution_count": null,
   "metadata": {},
   "outputs": [],
   "source": [
    "mv_fixed = {}\n",
    "for p_fixed in p_list:\n",
    "    \n",
    "    # Define electricity price supplement only for dedicated sensitivity\n",
    "    if p_fixed == 'El supplement':\n",
    "        p_sensitivity['El supplement'] = (0, 20, 5)  # €/MWh_el\n",
    "    \n",
    "    # Define range for the parameter that is fixed\n",
    "    a, b, step = p_sensitivity[p_fixed]\n",
    "    rng = np.arange(a, b+step, step)\n",
    "    \n",
    "    # Create a dataframe with sensitivity results\n",
    "    df = pd.DataFrame()\n",
    "    df['Market value'] = pd.concat(\n",
    "        [pd.concat(\n",
    "             [monte_carlo(vre, {p_fixed: x}) for x in rng], keys=rng\n",
    "         ).clip(lower=0)\n",
    "         for vre in vres],\n",
    "        keys = vres\n",
    "    )\n",
    "    \n",
    "    # Copy vre and values of the fixed parameter to columns\n",
    "    df['VRE'] = df.index.get_level_values(0)\n",
    "    df[p_fixed] = df.index.get_level_values(1)\n",
    "    \n",
    "    # Reset electricity price supplement\n",
    "    p_sensitivity['El supplement'] = (0, 0, 0)  # €/MWh_el\n",
    "    \n",
    "    mv_fixed[p_fixed] = df"
   ]
  },
  {
   "cell_type": "code",
   "execution_count": null,
   "metadata": {},
   "outputs": [],
   "source": [
    "# This creates one figure per parameter\n",
    "for p_fixed in p_list:\n",
    "    fig = plt.figure()\n",
    "    sensitivity(p_fixed)\n",
    "    plt.savefig('graphs/Sensitivity - {}.png'.format(p_fixed), dpi=300)"
   ]
  },
  {
   "cell_type": "code",
   "execution_count": null,
   "metadata": {},
   "outputs": [],
   "source": [
    "# This creates one figure with all parameters\n",
    "multiple = True\n",
    "if multiple:\n",
    "    \n",
    "    fig = plt.figure(figsize=(10,3.5))\n",
    "\n",
    "    ax = {}\n",
    "    for i, p_fixed in enumerate(p_list):\n",
    "        ax[i] = plt.subplot(131+i)\n",
    "        if i == 1:\n",
    "            ax[i] = sensitivity(p_fixed, legend=False)\n",
    "        else:\n",
    "            ax[i] = sensitivity(p_fixed, legend=False)\n",
    "    for i in range(1,3):\n",
    "        ax[i].set_ylabel('')\n",
    "        ax[i].set_yticklabels([])\n",
    "\n",
    "    plt.tight_layout()\n",
    "    \n",
    "    ax[0].get_legend().remove()\n",
    "    ax[1].legend(ncol=3, bbox_to_anchor=(0.5, 1), loc='lower center')\n",
    "    ax[2].get_legend().remove()\n",
    "    \n",
    "    plt.savefig('graphs/Sensitivities - other.png', dpi=300)"
   ]
  },
  {
   "cell_type": "markdown",
   "metadata": {},
   "source": [
    "VRE full load hours:"
   ]
  },
  {
   "cell_type": "code",
   "execution_count": null,
   "metadata": {},
   "outputs": [],
   "source": [
    "def sensitivity_flh():\n",
    "\n",
    "    p_fixed = 'Full load hours'\n",
    "    \n",
    "    # Ranges\n",
    "    rngs = {\n",
    "        'Solar PV': range(900, 1301, 300),\n",
    "        'Wind onshore': range(1600, 2501, 300),\n",
    "        'Wind offshore': range(2800, 4301, 300),\n",
    "    }\n",
    "    b = 100\n",
    "    \n",
    "    # Create a dataframe with sensitivity results\n",
    "    df = pd.DataFrame()\n",
    "    sers = []\n",
    "    keys = []\n",
    "    for vre in vres:\n",
    "        for x in rngs[vre]:\n",
    "            ts_filtered = {\n",
    "                vre: ts[vre].loc[:, (ts[vre].sum() >= x-b) & (ts[vre].sum() <= x+b)]\n",
    "            }\n",
    "            sers.append(monte_carlo(vre, ts=ts_filtered))\n",
    "            keys.append(x)\n",
    "    df['Market value'] = pd.concat(\n",
    "        sers, keys=keys\n",
    "    )#.clip(lower=0)\n",
    "    \n",
    "    # Copy vre and values of the fixed parameter to columns\n",
    "    df[p_fixed] = df.index.get_level_values(0)\n",
    "    \n",
    "    # Grid\n",
    "    plt.grid(axis='y', zorder=0, color='grey', linewidth=.5)\n",
    "    \n",
    "    # Boxplot\n",
    "    ax = sns.boxplot(data=df, x=p_fixed, y='Market value', saturation=1, whis=[5, 95], showfliers=False,\n",
    "                     palette=2*[colors['Solar PV']] + 4*[colors['Wind onshore']] + 6*[colors['Wind offshore']])\n",
    "    \n",
    "    # X axis\n",
    "    plt.xticks(rotation=90)\n",
    "    ax.set_xlabel('Full load hours (h/a)')\n",
    "    \n",
    "    # Y axis\n",
    "    ax.set_ylim(0, 50)\n",
    "    ax.set_ylabel('Minimum market value (€/MWh)')\n",
    "    \n",
    "    # Legend\n",
    "    ax.legend(handles, labels, ncol=3, bbox_to_anchor=(0.5, 1), loc='lower center')\n",
    "    \n",
    "    # Safe figure\n",
    "    plt.tight_layout()\n",
    "    plt.savefig('graphs/Sensitivity - {}.png'.format(p_fixed), dpi=300)"
   ]
  },
  {
   "cell_type": "code",
   "execution_count": null,
   "metadata": {},
   "outputs": [],
   "source": [
    "sensitivity_flh()"
   ]
  },
  {
   "cell_type": "code",
   "execution_count": null,
   "metadata": {},
   "outputs": [],
   "source": []
  }
 ],
 "metadata": {
  "@webio": {
   "lastCommId": null,
   "lastKernelId": null
  },
  "kernelspec": {
   "display_name": "Python 3",
   "language": "python",
   "name": "python3"
  },
  "language_info": {
   "codemirror_mode": {
    "name": "ipython",
    "version": 3
   },
   "file_extension": ".py",
   "mimetype": "text/x-python",
   "name": "python",
   "nbconvert_exporter": "python",
   "pygments_lexer": "ipython3",
   "version": "3.7.1"
  }
 },
 "nbformat": 4,
 "nbformat_minor": 2
}
